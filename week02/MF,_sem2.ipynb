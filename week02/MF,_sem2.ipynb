{
  "cells": [
    {
      "cell_type": "markdown",
      "id": "6d04d962",
      "metadata": {
        "id": "6d04d962"
      },
      "source": [
        "# <center> Matrix factorization</center>"
      ]
    },
    {
      "cell_type": "code",
      "execution_count": null,
      "id": "4bb04657",
      "metadata": {
        "id": "4bb04657"
      },
      "outputs": [],
      "source": [
        "import warnings\n",
        "warnings.filterwarnings(\"ignore\")\n",
        "\n",
        "from math import sqrt\n",
        "import numpy as np\n",
        "import pandas as pd\n",
        "import pickle\n",
        "import seaborn as sns\n",
        "import scipy as sp\n",
        "import scipy.sparse as scs\n",
        "import matplotlib\n",
        "import matplotlib.pyplot as plt\n",
        "from numpy.linalg import svd\n",
        "from sklearn.manifold import TSNE\n",
        "from sklearn.metrics import r2_score\n",
        "from sklearn.preprocessing import LabelEncoder\n",
        "import torch\n",
        "import torch.nn as nn\n",
        "import torch.optim as optim\n",
        "from tqdm.notebook import tqdm\n",
        "from PIL import Image\n",
        "from IPython.display import display\n",
        "from ipywidgets import interact, widgets\n",
        "\n",
        "%matplotlib inline\n",
        "\n",
        "matplotlib.rcParams['figure.figsize'] = (12, 10)\n",
        "np.set_printoptions(2, suppress=True)\n",
        "plt.rcParams.update({'font.size': 14})"
      ]
    },
    {
      "cell_type": "markdown",
      "id": "52282978-10f5-4f2a-900b-ed46b4ca0546",
      "metadata": {
        "id": "52282978-10f5-4f2a-900b-ed46b4ca0546"
      },
      "source": [
        "## SVD\n",
        "\n",
        "<img src='https://www.dataminingapps.com/wp-content/uploads/2020/02/svd2.png'>"
      ]
    },
    {
      "cell_type": "markdown",
      "id": "3f12eee9",
      "metadata": {
        "id": "3f12eee9"
      },
      "source": [
        "## Matrix factorization"
      ]
    },
    {
      "cell_type": "markdown",
      "id": "bb81facd",
      "metadata": {
        "id": "bb81facd"
      },
      "source": [
        "Попробуем применить SVD на табличных данных для задачи рекомендации. Возьмем датасет из пользователей и фильмов."
      ]
    },
    {
      "cell_type": "code",
      "execution_count": null,
      "id": "43c0e397-c98d-45b5-a7e3-10617b59c23f",
      "metadata": {
        "id": "43c0e397-c98d-45b5-a7e3-10617b59c23f",
        "outputId": "4adb6451-e208-4227-99a9-7a5928c61a36"
      },
      "outputs": [
        {
          "data": {
            "text/html": [
              "<div>\n",
              "<style scoped>\n",
              "    .dataframe tbody tr th:only-of-type {\n",
              "        vertical-align: middle;\n",
              "    }\n",
              "\n",
              "    .dataframe tbody tr th {\n",
              "        vertical-align: top;\n",
              "    }\n",
              "\n",
              "    .dataframe thead th {\n",
              "        text-align: right;\n",
              "    }\n",
              "</style>\n",
              "<table border=\"1\" class=\"dataframe\">\n",
              "  <thead>\n",
              "    <tr style=\"text-align: right;\">\n",
              "      <th></th>\n",
              "      <th>userId</th>\n",
              "      <th>movieId</th>\n",
              "      <th>rating</th>\n",
              "      <th>timestamp</th>\n",
              "      <th>title</th>\n",
              "    </tr>\n",
              "  </thead>\n",
              "  <tbody>\n",
              "    <tr>\n",
              "      <th>0</th>\n",
              "      <td>1</td>\n",
              "      <td>31</td>\n",
              "      <td>2.5</td>\n",
              "      <td>1260759144</td>\n",
              "      <td>Dangerous Minds</td>\n",
              "    </tr>\n",
              "    <tr>\n",
              "      <th>1</th>\n",
              "      <td>7</td>\n",
              "      <td>31</td>\n",
              "      <td>3.0</td>\n",
              "      <td>851868750</td>\n",
              "      <td>Dangerous Minds</td>\n",
              "    </tr>\n",
              "    <tr>\n",
              "      <th>2</th>\n",
              "      <td>31</td>\n",
              "      <td>31</td>\n",
              "      <td>4.0</td>\n",
              "      <td>1273541953</td>\n",
              "      <td>Dangerous Minds</td>\n",
              "    </tr>\n",
              "    <tr>\n",
              "      <th>3</th>\n",
              "      <td>32</td>\n",
              "      <td>31</td>\n",
              "      <td>4.0</td>\n",
              "      <td>834828440</td>\n",
              "      <td>Dangerous Minds</td>\n",
              "    </tr>\n",
              "    <tr>\n",
              "      <th>4</th>\n",
              "      <td>36</td>\n",
              "      <td>31</td>\n",
              "      <td>3.0</td>\n",
              "      <td>847057202</td>\n",
              "      <td>Dangerous Minds</td>\n",
              "    </tr>\n",
              "    <tr>\n",
              "      <th>...</th>\n",
              "      <td>...</td>\n",
              "      <td>...</td>\n",
              "      <td>...</td>\n",
              "      <td>...</td>\n",
              "      <td>...</td>\n",
              "    </tr>\n",
              "    <tr>\n",
              "      <th>99845</th>\n",
              "      <td>664</td>\n",
              "      <td>64997</td>\n",
              "      <td>2.5</td>\n",
              "      <td>1343761859</td>\n",
              "      <td>H.G. Wells' War of the Worlds</td>\n",
              "    </tr>\n",
              "    <tr>\n",
              "      <th>99846</th>\n",
              "      <td>664</td>\n",
              "      <td>72380</td>\n",
              "      <td>3.5</td>\n",
              "      <td>1344435977</td>\n",
              "      <td>The Box</td>\n",
              "    </tr>\n",
              "    <tr>\n",
              "      <th>99847</th>\n",
              "      <td>665</td>\n",
              "      <td>129</td>\n",
              "      <td>3.0</td>\n",
              "      <td>995232528</td>\n",
              "      <td>Pie in the Sky</td>\n",
              "    </tr>\n",
              "    <tr>\n",
              "      <th>99848</th>\n",
              "      <td>665</td>\n",
              "      <td>4736</td>\n",
              "      <td>1.0</td>\n",
              "      <td>1010197684</td>\n",
              "      <td>Summer Catch</td>\n",
              "    </tr>\n",
              "    <tr>\n",
              "      <th>99849</th>\n",
              "      <td>668</td>\n",
              "      <td>6425</td>\n",
              "      <td>1.0</td>\n",
              "      <td>993613478</td>\n",
              "      <td>The Sixth Man</td>\n",
              "    </tr>\n",
              "  </tbody>\n",
              "</table>\n",
              "<p>99850 rows × 5 columns</p>\n",
              "</div>"
            ],
            "text/plain": [
              "       userId  movieId  rating   timestamp                          title\n",
              "0           1       31     2.5  1260759144                Dangerous Minds\n",
              "1           7       31     3.0   851868750                Dangerous Minds\n",
              "2          31       31     4.0  1273541953                Dangerous Minds\n",
              "3          32       31     4.0   834828440                Dangerous Minds\n",
              "4          36       31     3.0   847057202                Dangerous Minds\n",
              "...       ...      ...     ...         ...                            ...\n",
              "99845     664    64997     2.5  1343761859  H.G. Wells' War of the Worlds\n",
              "99846     664    72380     3.5  1344435977                        The Box\n",
              "99847     665      129     3.0   995232528                 Pie in the Sky\n",
              "99848     665     4736     1.0  1010197684                   Summer Catch\n",
              "99849     668     6425     1.0   993613478                  The Sixth Man\n",
              "\n",
              "[99850 rows x 5 columns]"
            ]
          },
          "execution_count": 59,
          "metadata": {},
          "output_type": "execute_result"
        }
      ],
      "source": [
        "ratings = pd.read_csv('../week3/data/movies_ratings.csv')\n",
        "ratings"
      ]
    },
    {
      "cell_type": "code",
      "execution_count": null,
      "id": "e2a5d1ce",
      "metadata": {
        "id": "e2a5d1ce",
        "outputId": "971f00b7-46d0-44e0-ac47-e0b21bcae12f"
      },
      "outputs": [
        {
          "data": {
            "text/plain": [
              "(671, 9025)"
            ]
          },
          "execution_count": 61,
          "metadata": {},
          "output_type": "execute_result"
        }
      ],
      "source": [
        "num_users, num_movies = ratings.userId.nunique(), ratings.movieId.nunique()\n",
        "num_users, num_movies"
      ]
    },
    {
      "cell_type": "code",
      "execution_count": null,
      "id": "35d953cd",
      "metadata": {
        "id": "35d953cd",
        "outputId": "6b22013e-e3bb-4bb7-9668-6eabfdac8dc5"
      },
      "outputs": [
        {
          "data": {
            "image/png": "[encoded data removed]",
            "text/plain": [
              "<Figure size 500x500 with 1 Axes>"
            ]
          },
          "metadata": {},
          "output_type": "display_data"
        }
      ],
      "source": [
        "sns.displot(ratings.rating);"
      ]
    },
    {
      "cell_type": "code",
      "execution_count": null,
      "id": "1009727e-3096-4ad8-96d8-11fbb8dc688d",
      "metadata": {
        "id": "1009727e-3096-4ad8-96d8-11fbb8dc688d",
        "outputId": "20f49560-59e4-4f94-f4f0-37c5f47325ae"
      },
      "outputs": [
        {
          "data": {
            "image/png": "[encoded data removed]",
            "text/plain": [
              "<Figure size 700x700 with 1 Axes>"
            ]
          },
          "metadata": {},
          "output_type": "display_data"
        }
      ],
      "source": [
        "sns.displot(ratings.groupby('movieId').size(), log_scale=True, height=7);"
      ]
    },
    {
      "cell_type": "markdown",
      "id": "6fd52e0c",
      "metadata": {
        "id": "6fd52e0c"
      },
      "source": [
        "Разделим выборку на обучение и тест следующим образом: для каждого пользователя в тестовую выборку попадут 10 его последних оценок."
      ]
    },
    {
      "cell_type": "code",
      "execution_count": null,
      "id": "d879c9e8",
      "metadata": {
        "id": "d879c9e8",
        "outputId": "e4e6c7fe-65f0-42c0-a84f-6a4cf6de7fc3"
      },
      "outputs": [
        {
          "data": {
            "text/plain": [
              "((93140, 5), (6710, 5))"
            ]
          },
          "execution_count": 67,
          "metadata": {},
          "output_type": "execute_result"
        }
      ],
      "source": [
        "train_ratings, test_ratings = [], []\n",
        "num_test_samples = 10\n",
        "\n",
        "for userId, user_data in ratings.groupby('userId'):\n",
        "    train_ratings += [user_data[:-num_test_samples]]\n",
        "    test_ratings += [user_data[-num_test_samples:]]\n",
        "\n",
        "train_ratings = pd.concat(train_ratings)\n",
        "test_ratings = pd.concat(test_ratings)\n",
        "train_ratings.shape, test_ratings.shape"
      ]
    },
    {
      "cell_type": "code",
      "execution_count": null,
      "id": "eb0283b8",
      "metadata": {
        "id": "eb0283b8",
        "outputId": "e11b209a-3c79-443d-c24b-6c39a7c0f641"
      },
      "outputs": [
        {
          "name": "stdout",
          "output_type": "stream",
          "text": [
            "num of users: 671\n",
            "num of movies: 8044\n"
          ]
        }
      ],
      "source": [
        "user_encoder, item_encoder = LabelEncoder(), LabelEncoder()\n",
        "train_ratings['userId'] = user_encoder.fit_transform(train_ratings['userId'])\n",
        "train_ratings['movieId'] = item_encoder.fit_transform(train_ratings['movieId'])\n",
        "\n",
        "\n",
        "user_ids = np.array(train_ratings['userId'].tolist())\n",
        "movie_ids = np.array(train_ratings['movieId'].tolist())\n",
        "user_ratings = np.array(train_ratings[\"rating\"].tolist())\n",
        "print ('num of users:',train_ratings['userId'].nunique())\n",
        "print ('num of movies:',train_ratings['movieId'].nunique())"
      ]
    },
    {
      "cell_type": "code",
      "execution_count": null,
      "id": "d86e41b4",
      "metadata": {
        "id": "d86e41b4"
      },
      "outputs": [],
      "source": [
        "R = scs.coo_array((train_ratings.rating, (train_ratings.userId, train_ratings.movieId)),\n",
        "                       shape=(num_users, num_movies)).tocsr()\n",
        "matrix = R.toarray()"
      ]
    },
    {
      "cell_type": "code",
      "execution_count": null,
      "id": "90ab7aa3",
      "metadata": {
        "id": "90ab7aa3",
        "outputId": "6a3a4791-a845-486f-ca33-7669c6b14561"
      },
      "outputs": [
        {
          "data": {
            "text/plain": [
              "((671, 671), (671,), (9025, 9025))"
            ]
          },
          "execution_count": 73,
          "metadata": {},
          "output_type": "execute_result"
        }
      ],
      "source": [
        "U, s, V = svd(matrix)\n",
        "U.shape, s.shape, V.shape"
      ]
    },
    {
      "cell_type": "code",
      "execution_count": null,
      "id": "a8318d0e",
      "metadata": {
        "id": "a8318d0e",
        "outputId": "f6e0d468-4814-4c7f-806c-36f54eb5a40f"
      },
      "outputs": [
        {
          "name": "stdout",
          "output_type": "stream",
          "text": [
            "(671, 9025)\n"
          ]
        },
        {
          "data": {
            "text/plain": [
              "array([[514.18,   0.  ,   0.  , ...,   0.  ,   0.  ,   0.  ],\n",
              "       [  0.  , 241.23,   0.  , ...,   0.  ,   0.  ,   0.  ],\n",
              "       [  0.  ,   0.  , 198.9 , ...,   0.  ,   0.  ,   0.  ],\n",
              "       ...,\n",
              "       [  0.  ,   0.  ,   0.  , ...,   0.  ,   0.  ,   0.  ],\n",
              "       [  0.  ,   0.  ,   0.  , ...,   0.  ,   0.  ,   0.  ],\n",
              "       [  0.  ,   0.  ,   0.  , ...,   0.  ,   0.  ,   0.  ]])"
            ]
          },
          "execution_count": 75,
          "metadata": {},
          "output_type": "execute_result"
        }
      ],
      "source": [
        "S = np.zeros(matrix.shape)\n",
        "S[:len(s), :len(s)] = np.diag(s)\n",
        "print(S.shape)\n",
        "S"
      ]
    },
    {
      "cell_type": "code",
      "execution_count": null,
      "id": "cd05cacc",
      "metadata": {
        "id": "cd05cacc"
      },
      "outputs": [],
      "source": [
        "preds_matrix = U @ S @ V"
      ]
    },
    {
      "cell_type": "code",
      "execution_count": null,
      "id": "52a0be9f",
      "metadata": {
        "id": "52a0be9f",
        "outputId": "e0db5c8f-ecf4-4c23-d59e-b561eabe07b6"
      },
      "outputs": [
        {
          "data": {
            "text/plain": [
              "array([[ 0.,  0., -0., ...,  0.,  0.,  0.],\n",
              "       [-0.,  0.,  0., ...,  0.,  0.,  0.],\n",
              "       [-0., -0.,  0., ...,  0.,  0.,  0.],\n",
              "       ...,\n",
              "       [ 0., -0.,  0., ...,  0.,  0.,  0.],\n",
              "       [ 4.,  0., -0., ...,  0.,  0.,  0.],\n",
              "       [ 5.,  0.,  0., ...,  0.,  0.,  0.]])"
            ]
          },
          "execution_count": 79,
          "metadata": {},
          "output_type": "execute_result"
        }
      ],
      "source": [
        "preds_matrix"
      ]
    },
    {
      "cell_type": "code",
      "execution_count": null,
      "id": "0311fa74",
      "metadata": {
        "id": "0311fa74",
        "outputId": "c116314d-1c96-465c-ad82-277908cbee33"
      },
      "outputs": [
        {
          "data": {
            "text/plain": [
              "True"
            ]
          },
          "execution_count": 81,
          "metadata": {},
          "output_type": "execute_result"
        }
      ],
      "source": [
        "np.allclose(matrix, preds_matrix)"
      ]
    },
    {
      "cell_type": "code",
      "execution_count": null,
      "id": "41b963b4",
      "metadata": {
        "id": "41b963b4",
        "outputId": "56a7206e-96be-43eb-c8ea-fb38080a8e4a"
      },
      "outputs": [
        {
          "data": {
            "text/html": [
              "<div>\n",
              "<style scoped>\n",
              "    .dataframe tbody tr th:only-of-type {\n",
              "        vertical-align: middle;\n",
              "    }\n",
              "\n",
              "    .dataframe tbody tr th {\n",
              "        vertical-align: top;\n",
              "    }\n",
              "\n",
              "    .dataframe thead th {\n",
              "        text-align: right;\n",
              "    }\n",
              "</style>\n",
              "<table border=\"1\" class=\"dataframe\">\n",
              "  <thead>\n",
              "    <tr style=\"text-align: right;\">\n",
              "      <th></th>\n",
              "      <th>init</th>\n",
              "      <th>preds</th>\n",
              "    </tr>\n",
              "  </thead>\n",
              "  <tbody>\n",
              "    <tr>\n",
              "      <th>875</th>\n",
              "      <td>4.0</td>\n",
              "      <td>4.000000e+00</td>\n",
              "    </tr>\n",
              "    <tr>\n",
              "      <th>1024</th>\n",
              "      <td>3.5</td>\n",
              "      <td>3.500000e+00</td>\n",
              "    </tr>\n",
              "    <tr>\n",
              "      <th>781</th>\n",
              "      <td>3.0</td>\n",
              "      <td>3.000000e+00</td>\n",
              "    </tr>\n",
              "    <tr>\n",
              "      <th>805</th>\n",
              "      <td>3.0</td>\n",
              "      <td>3.000000e+00</td>\n",
              "    </tr>\n",
              "    <tr>\n",
              "      <th>30</th>\n",
              "      <td>2.5</td>\n",
              "      <td>2.500000e+00</td>\n",
              "    </tr>\n",
              "    <tr>\n",
              "      <th>1028</th>\n",
              "      <td>2.0</td>\n",
              "      <td>2.000000e+00</td>\n",
              "    </tr>\n",
              "    <tr>\n",
              "      <th>984</th>\n",
              "      <td>2.0</td>\n",
              "      <td>2.000000e+00</td>\n",
              "    </tr>\n",
              "    <tr>\n",
              "      <th>960</th>\n",
              "      <td>2.0</td>\n",
              "      <td>2.000000e+00</td>\n",
              "    </tr>\n",
              "    <tr>\n",
              "      <th>851</th>\n",
              "      <td>2.0</td>\n",
              "      <td>2.000000e+00</td>\n",
              "    </tr>\n",
              "    <tr>\n",
              "      <th>990</th>\n",
              "      <td>2.0</td>\n",
              "      <td>2.000000e+00</td>\n",
              "    </tr>\n",
              "    <tr>\n",
              "      <th>268</th>\n",
              "      <td>0.0</td>\n",
              "      <td>5.175027e-14</td>\n",
              "    </tr>\n",
              "    <tr>\n",
              "      <th>2262</th>\n",
              "      <td>0.0</td>\n",
              "      <td>4.118234e-14</td>\n",
              "    </tr>\n",
              "    <tr>\n",
              "      <th>500</th>\n",
              "      <td>0.0</td>\n",
              "      <td>3.387568e-14</td>\n",
              "    </tr>\n",
              "    <tr>\n",
              "      <th>1516</th>\n",
              "      <td>0.0</td>\n",
              "      <td>3.211320e-14</td>\n",
              "    </tr>\n",
              "    <tr>\n",
              "      <th>1972</th>\n",
              "      <td>0.0</td>\n",
              "      <td>3.204555e-14</td>\n",
              "    </tr>\n",
              "    <tr>\n",
              "      <th>31</th>\n",
              "      <td>0.0</td>\n",
              "      <td>2.997602e-14</td>\n",
              "    </tr>\n",
              "    <tr>\n",
              "      <th>2990</th>\n",
              "      <td>0.0</td>\n",
              "      <td>2.996214e-14</td>\n",
              "    </tr>\n",
              "    <tr>\n",
              "      <th>96</th>\n",
              "      <td>0.0</td>\n",
              "      <td>2.846161e-14</td>\n",
              "    </tr>\n",
              "    <tr>\n",
              "      <th>2169</th>\n",
              "      <td>0.0</td>\n",
              "      <td>2.828987e-14</td>\n",
              "    </tr>\n",
              "    <tr>\n",
              "      <th>2181</th>\n",
              "      <td>0.0</td>\n",
              "      <td>2.665923e-14</td>\n",
              "    </tr>\n",
              "  </tbody>\n",
              "</table>\n",
              "</div>"
            ],
            "text/plain": [
              "      init         preds\n",
              "875    4.0  4.000000e+00\n",
              "1024   3.5  3.500000e+00\n",
              "781    3.0  3.000000e+00\n",
              "805    3.0  3.000000e+00\n",
              "30     2.5  2.500000e+00\n",
              "1028   2.0  2.000000e+00\n",
              "984    2.0  2.000000e+00\n",
              "960    2.0  2.000000e+00\n",
              "851    2.0  2.000000e+00\n",
              "990    2.0  2.000000e+00\n",
              "268    0.0  5.175027e-14\n",
              "2262   0.0  4.118234e-14\n",
              "500    0.0  3.387568e-14\n",
              "1516   0.0  3.211320e-14\n",
              "1972   0.0  3.204555e-14\n",
              "31     0.0  2.997602e-14\n",
              "2990   0.0  2.996214e-14\n",
              "96     0.0  2.846161e-14\n",
              "2169   0.0  2.828987e-14\n",
              "2181   0.0  2.665923e-14"
            ]
          },
          "execution_count": 87,
          "metadata": {},
          "output_type": "execute_result"
        }
      ],
      "source": [
        "k = 20\n",
        "df = pd.DataFrame(data=(zip(matrix[0, :], preds_matrix[0, :])),\n",
        "                  columns=['init', 'preds']).sort_values(by='init', ascending=False)\n",
        "df['preds'] = df['preds'].astype('float32')\n",
        "df.sort_values(by='preds', ascending=False).head(k)"
      ]
    },
    {
      "cell_type": "markdown",
      "id": "a83d34b9-d03f-4b98-96e3-c414029447a4",
      "metadata": {
        "id": "a83d34b9-d03f-4b98-96e3-c414029447a4"
      },
      "source": [
        "Обратите внимание, что список рекомендаций выше - смешанный, у него в топе те айтемы, которые уже были в матрице интеракций пользователя. Когда нам нужно сделать только новые рекомендации - можем профильтровать."
      ]
    },
    {
      "cell_type": "code",
      "execution_count": null,
      "id": "80b5ec53-f841-4529-ac67-2f5a85213b15",
      "metadata": {
        "id": "80b5ec53-f841-4529-ac67-2f5a85213b15",
        "outputId": "b305613d-b00c-4a25-c7bc-d3d6d3835bf1"
      },
      "outputs": [
        {
          "data": {
            "text/html": [
              "<div>\n",
              "<style scoped>\n",
              "    .dataframe tbody tr th:only-of-type {\n",
              "        vertical-align: middle;\n",
              "    }\n",
              "\n",
              "    .dataframe tbody tr th {\n",
              "        vertical-align: top;\n",
              "    }\n",
              "\n",
              "    .dataframe thead th {\n",
              "        text-align: right;\n",
              "    }\n",
              "</style>\n",
              "<table border=\"1\" class=\"dataframe\">\n",
              "  <thead>\n",
              "    <tr style=\"text-align: right;\">\n",
              "      <th></th>\n",
              "      <th>init</th>\n",
              "      <th>preds</th>\n",
              "    </tr>\n",
              "  </thead>\n",
              "  <tbody>\n",
              "    <tr>\n",
              "      <th>268</th>\n",
              "      <td>0.0</td>\n",
              "      <td>5.175027e-14</td>\n",
              "    </tr>\n",
              "    <tr>\n",
              "      <th>2262</th>\n",
              "      <td>0.0</td>\n",
              "      <td>4.118234e-14</td>\n",
              "    </tr>\n",
              "    <tr>\n",
              "      <th>500</th>\n",
              "      <td>0.0</td>\n",
              "      <td>3.387568e-14</td>\n",
              "    </tr>\n",
              "    <tr>\n",
              "      <th>1516</th>\n",
              "      <td>0.0</td>\n",
              "      <td>3.211320e-14</td>\n",
              "    </tr>\n",
              "    <tr>\n",
              "      <th>1972</th>\n",
              "      <td>0.0</td>\n",
              "      <td>3.204555e-14</td>\n",
              "    </tr>\n",
              "    <tr>\n",
              "      <th>31</th>\n",
              "      <td>0.0</td>\n",
              "      <td>2.997602e-14</td>\n",
              "    </tr>\n",
              "    <tr>\n",
              "      <th>2990</th>\n",
              "      <td>0.0</td>\n",
              "      <td>2.996214e-14</td>\n",
              "    </tr>\n",
              "    <tr>\n",
              "      <th>96</th>\n",
              "      <td>0.0</td>\n",
              "      <td>2.846161e-14</td>\n",
              "    </tr>\n",
              "    <tr>\n",
              "      <th>2169</th>\n",
              "      <td>0.0</td>\n",
              "      <td>2.828987e-14</td>\n",
              "    </tr>\n",
              "    <tr>\n",
              "      <th>2181</th>\n",
              "      <td>0.0</td>\n",
              "      <td>2.665923e-14</td>\n",
              "    </tr>\n",
              "  </tbody>\n",
              "</table>\n",
              "</div>"
            ],
            "text/plain": [
              "      init         preds\n",
              "268    0.0  5.175027e-14\n",
              "2262   0.0  4.118234e-14\n",
              "500    0.0  3.387568e-14\n",
              "1516   0.0  3.211320e-14\n",
              "1972   0.0  3.204555e-14\n",
              "31     0.0  2.997602e-14\n",
              "2990   0.0  2.996214e-14\n",
              "96     0.0  2.846161e-14\n",
              "2169   0.0  2.828987e-14\n",
              "2181   0.0  2.665923e-14"
            ]
          },
          "execution_count": 89,
          "metadata": {},
          "output_type": "execute_result"
        }
      ],
      "source": [
        "df.sort_values(by='preds', ascending=False).head(k)[df.init == 0]"
      ]
    },
    {
      "cell_type": "markdown",
      "id": "959b535f-10ad-4b53-aee4-a0d631a2bed3",
      "metadata": {
        "id": "959b535f-10ad-4b53-aee4-a0d631a2bed3"
      },
      "source": [
        "### Другие типы SVD\n",
        "\n",
        "$$ R = U \\Sigma V^T$$\n",
        "\n",
        "- **Full SVD**\n",
        "$$ UU^T = U^TU = I_M$$\n",
        "$$ VV^T = V^TV = I_N,$$\n",
        "\n",
        "где $M$ x $M$ - размер матрицы $U$, $M$ x $N$ - размер матрицы $\\Sigma$, $N$ x $N$ - размер матрицы $V$.\n",
        "\n",
        "- **Compact SVD**\n",
        "\n",
        "Берем матрицу $\\Sigma$ по размеру ранга. Compact SVD не усекает данные и предоставляет точное разложение исходной матрицы.\n",
        "\n",
        "$$ l = rank\\{R\\}$$\n",
        "$$ U^TU = V^TV = I_l,$$\n",
        "\n",
        "где $M$ x $l$ - размер матрицы $U$, $l$ x $l$ - размер матрицы $\\Sigma$, $l$ x $N$ - размер матрицы $V$.\n",
        "\n",
        "- **Truncated SVD**\n",
        "\n",
        "Берем первые k компонент диагональной матрицы $\\Sigma$.\n",
        "\n",
        "$$ k << l = rank{R}$$\n",
        "$$ U^TU = V^TV = I_k,$$\n",
        "\n",
        "где $M$ x $k$ - размер матрицы $U$,  $k$ x $k$ - размер матрицы $\\Sigma$, $k$ x $N$ - размер матрицы $V$."
      ]
    },
    {
      "cell_type": "code",
      "execution_count": null,
      "id": "a9df612e",
      "metadata": {
        "id": "a9df612e",
        "outputId": "302d9bb4-736a-4f8b-9cc7-31344e91f1ff"
      },
      "outputs": [
        {
          "data": {
            "text/plain": [
              "array([[0.02, 0.01, 0.01, ..., 0.  , 0.  , 0.  ],\n",
              "       [0.54, 0.21, 0.1 , ..., 0.  , 0.  , 0.  ],\n",
              "       [0.63, 0.25, 0.08, ..., 0.  , 0.  , 0.  ],\n",
              "       ...,\n",
              "       [0.26, 0.1 , 0.04, ..., 0.  , 0.  , 0.  ],\n",
              "       [0.46, 0.18, 0.06, ..., 0.  , 0.  , 0.  ],\n",
              "       [1.8 , 0.72, 0.24, ..., 0.  , 0.  , 0.  ]])"
            ]
          },
          "execution_count": 91,
          "metadata": {},
          "output_type": "execute_result"
        }
      ],
      "source": [
        "def reshape_for_k(k: int, U, s, V):\n",
        "    U_new = U[: , :k]\n",
        "    S = np.zeros((U.shape[0], V.shape[1]))\n",
        "    S[:len(s), :len(s)] = np.diag(s)\n",
        "    S_new = S[: k, : k]\n",
        "    V_new = V[: k, :]\n",
        "    return U_new @ S_new @ V_new\n",
        "\n",
        "reshape_for_k(2, U, s, V)"
      ]
    },
    {
      "cell_type": "markdown",
      "id": "8756d92f-ecfb-4b76-9d6f-e2880c265ff4",
      "metadata": {
        "id": "8756d92f-ecfb-4b76-9d6f-e2880c265ff4"
      },
      "source": [
        "### Обучение матриц вместо разложения"
      ]
    },
    {
      "cell_type": "markdown",
      "id": "568d6857-e03a-4c4e-ab31-e9852d51b069",
      "metadata": {
        "id": "568d6857-e03a-4c4e-ab31-e9852d51b069"
      },
      "source": [
        "$$r_{ui} = \\hat r_{ui} = p^T_{u} q_i$$\n",
        "\n",
        "$$ \\Theta = \\{p_u, q_i| u \\in U, i \\in I\\}$$"
      ]
    },
    {
      "cell_type": "markdown",
      "id": "eeb0e6b7-5b4d-49c9-8cfc-7a8201e961cf",
      "metadata": {
        "id": "eeb0e6b7-5b4d-49c9-8cfc-7a8201e961cf"
      },
      "source": [
        "$$\\sum_{(u,i) \\in D}(r_{ui} - \\hat r_{ui})^2 + \\lambda \\sum_{\\theta in \\Theta}) ||\\theta||^2 = \\sum_{(u,i) \\in D}(r_{ui} - p_u^T q_i)^2 + \\lambda \\sum_{u \\in U} ||p_u||^2 + \\lambda \\sum_{i \\in I} ||q_i||^2 $$"
      ]
    },
    {
      "cell_type": "code",
      "execution_count": null,
      "id": "d4af849e-c66e-4be8-8a51-a652b01377a4",
      "metadata": {
        "id": "d4af849e-c66e-4be8-8a51-a652b01377a4"
      },
      "outputs": [],
      "source": [
        "n_movie = train_ratings.movieId.nunique() # 8044\n",
        "n_user = train_ratings.userId.nunique() # 671\n",
        "\n",
        "embedding_size = 10\n",
        "lr = 0.001\n",
        "reg = 0.01"
      ]
    },
    {
      "cell_type": "code",
      "execution_count": null,
      "id": "480e74c6-c823-4ffe-9b05-a8db7e5db870",
      "metadata": {
        "id": "480e74c6-c823-4ffe-9b05-a8db7e5db870",
        "outputId": "473bcfb6-fb97-4629-b68d-a6e613eacbc2"
      },
      "outputs": [
        {
          "data": {
            "text/plain": [
              "(8044, 671)"
            ]
          },
          "execution_count": 159,
          "metadata": {},
          "output_type": "execute_result"
        }
      ],
      "source": [
        "n_movie, n_user"
      ]
    },
    {
      "cell_type": "code",
      "execution_count": null,
      "id": "3f86d553-f232-46db-ac8b-48c5bd86603a",
      "metadata": {
        "id": "3f86d553-f232-46db-ac8b-48c5bd86603a"
      },
      "outputs": [],
      "source": [
        "user_ids = torch.LongTensor(train_ratings['userId'].values)\n",
        "movie_ids = torch.LongTensor(train_ratings['movieId'].values)\n",
        "user_ratings = torch.FloatTensor(train_ratings['rating'].values) # kernel"
      ]
    },
    {
      "cell_type": "code",
      "execution_count": null,
      "id": "35435203",
      "metadata": {
        "id": "35435203"
      },
      "outputs": [],
      "source": [
        "class MatrixFactorization(nn.Module):\n",
        "\n",
        "    def __init__(self, n_user, n_movie, embedding_size):\n",
        "        super(MatrixFactorization, self).__init__()\n",
        "        self.user_embedding = nn.Embedding(n_user, embedding_size)\n",
        "        self.movie_embedding = nn.Embedding(n_movie, embedding_size)\n",
        "        self.user_bias_embedding = nn.Embedding(n_user, 1)\n",
        "        self.movie_bias_embedding = nn.Embedding(n_movie, 1)\n",
        "        self.global_bias = nn.Parameter(torch.zeros(1))\n",
        "\n",
        "    def forward(self, user, movie):\n",
        "        u = self.user_embedding(user)\n",
        "        m = self.movie_embedding(movie)\n",
        "        u_bias = self.user_bias_embedding(user).squeeze()\n",
        "        m_bias = self.movie_bias_embedding(movie).squeeze()\n",
        "        predicted_rating = torch.sum(u * m, dim=1) + u_bias + m_bias + self.global_bias\n",
        "        return predicted_rating"
      ]
    },
    {
      "cell_type": "code",
      "execution_count": null,
      "id": "43bab499",
      "metadata": {
        "id": "43bab499"
      },
      "outputs": [],
      "source": [
        "model = MatrixFactorization(n_user, n_movie, embedding_size)\n",
        "criterion = nn.MSELoss()\n",
        "optimizer = optim.Adam(model.parameters(), lr=lr, weight_decay=reg)"
      ]
    },
    {
      "cell_type": "code",
      "execution_count": null,
      "id": "1201a4b8",
      "metadata": {
        "id": "1201a4b8",
        "outputId": "f7f3114d-9a3b-4977-b529-8254cbcbbfa3"
      },
      "outputs": [
        {
          "name": "stdout",
          "output_type": "stream",
          "text": [
            "RMSE 0.6754335761070251\n",
            "RMSE 0.6437369585037231\n",
            "RMSE 0.6400254964828491\n"
          ]
        }
      ],
      "source": [
        "batch_size = 16\n",
        "n_epoch = 3\n",
        "\n",
        "for epoch in range(n_epoch):\n",
        "    for start in range(0, len(user_ratings) - batch_size, batch_size):\n",
        "        end = start + batch_size\n",
        "        user_batch = user_ids[start:end]\n",
        "        movie_batch = movie_ids[start:end]\n",
        "        rating_batch = user_ratings[start:end]\n",
        "\n",
        "        optimizer.zero_grad()\n",
        "        outputs = model(user_batch, movie_batch)\n",
        "        loss = criterion(outputs, rating_batch)\n",
        "        loss.backward()\n",
        "        optimizer.step()\n",
        "\n",
        "    print(\"RMSE\", torch.sqrt(loss).item())\n",
        "\n",
        "movie_embeddings = model.movie_embedding.weight.detach().numpy()"
      ]
    }
  ],
  "metadata": {
    "kernelspec": {
      "display_name": "Python [conda env:base] *",
      "language": "python",
      "name": "conda-base-py"
    },
    "language_info": {
      "codemirror_mode": {
        "name": "ipython",
        "version": 3
      },
      "file_extension": ".py",
      "mimetype": "text/x-python",
      "name": "python",
      "nbconvert_exporter": "python",
      "pygments_lexer": "ipython3",
      "version": "3.12.2"
    },
    "colab": {
      "provenance": []
    }
  },
  "nbformat": 4,
  "nbformat_minor": 5
}